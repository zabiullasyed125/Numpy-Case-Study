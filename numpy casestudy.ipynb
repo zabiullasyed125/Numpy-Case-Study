{
 "cells": [
  {
   "cell_type": "code",
   "execution_count": 8,
   "metadata": {},
   "outputs": [
    {
     "name": "stdout",
     "output_type": "stream",
     "text": [
      "42\n",
      "[1 2 3 4 5]\n",
      "[[1 2 3]\n",
      " [4 5 6]]\n",
      "[[[1 2 3]\n",
      "  [4 5 6]\n",
      "  [7 8 9]]]\n",
      "[[0. 0. 0.]\n",
      " [0. 0. 0.]]\n",
      "[[1. 1. 1.]\n",
      " [1. 1. 1.]]\n"
     ]
    }
   ],
   "source": [
    "#creating nd array\n",
    "\n",
    "#0d array\n",
    "import numpy as np\n",
    "arr=np.array(42)\n",
    "print(arr)\n",
    "\n",
    "#1d array\n",
    "import numpy as np\n",
    "arr=np.array([1,2,3,4,5])\n",
    "print(arr)\n",
    "\n",
    "#2d array\n",
    "import numpy as np\n",
    "arr=np.array([[1,2,3],[4,5,6]])\n",
    "print(arr)\n",
    "\n",
    "#3D ARRAY\n",
    "arr=np.array([[[1,2,3],[4,5,6],[7,8,9]]])\n",
    "print(arr)\n",
    "\n",
    "#creating an array of zero's\n",
    "arr=np.zeros((2,3))\n",
    "print(arr)\n",
    "#creating an array of one's\n",
    "arr=np.ones((2,3))\n",
    "print(arr)"
   ]
  },
  {
   "cell_type": "code",
   "execution_count": 22,
   "metadata": {},
   "outputs": [
    {
     "name": "stdout",
     "output_type": "stream",
     "text": [
      "[ 13  24 105 206 507]\n",
      "[ 13  24 105 206 507]\n",
      "[  7  16  95 194 493]\n",
      "[  30   80  500 1200 3500]\n",
      "[ 3.33333333  5.         20.         33.33333333 71.42857143]\n",
      "[1 0 0 2 3]\n",
      "[  7  16  95 194 493]\n",
      "[  30   80  500 1200 3500]\n",
      "[ 3.33333333  5.         20.         33.33333333 71.42857143]\n",
      "[1 0 0 2 3]\n"
     ]
    }
   ],
   "source": [
    "#arithmatic operation on array\n",
    "import numpy as np\n",
    "a = np.array([10,20,100,200,500])\n",
    "b = np.array([3,4,5,6,7])\n",
    "d=np.add(a,b)\n",
    "c=a+b\n",
    "e=np.subtract(a,b)#using substraction function\n",
    "i=a-b#using substraction operator\n",
    "f=np.multiply(a,b)#using multiplication function\n",
    "j=a*b#using multiplication operator\n",
    "g=np.divide(a,b)#using division function\n",
    "k=a/b#using division operator\n",
    "h=np.mod(a,b)#using mod function\n",
    "l=a%b#using mod operator\n",
    "print(c)\n",
    "print(d)\n",
    "print(e)\n",
    "print(f)\n",
    "print(g)\n",
    "print(h)\n",
    "print(i)\n",
    "print(j)\n",
    "print(k)\n",
    "print(l)\n",
    "\n"
   ]
  },
  {
   "cell_type": "code",
   "execution_count": 23,
   "metadata": {},
   "outputs": [
    {
     "name": "stdout",
     "output_type": "stream",
     "text": [
      "[  343    81  1024 15625     1]\n",
      "[2.64575131 1.73205081 2.         2.23606798 1.        ]\n",
      "[1096.63315843   20.08553692   54.59815003  148.4131591     2.71828183]\n",
      "[1.94591015 1.09861229 1.38629436 1.60943791 0.        ]\n",
      "[0.84509804 0.47712125 0.60205999 0.69897    0.        ]\n",
      "[2.80735492 1.5849625  2.         2.32192809 0.        ]\n",
      "[ 0.6569866   0.14112001 -0.7568025  -0.95892427  0.84147098]\n",
      "[ 0.75390225 -0.9899925  -0.65364362  0.28366219  0.54030231]\n",
      "[ 0.87144798 -0.14254654  1.15782128 -3.38051501  1.55740772]\n",
      "[548.31612327  10.01787493  27.2899172   74.20321058   1.17520119]\n",
      "[548.31703516  10.067662    27.30823284  74.20994852   1.54308063]\n",
      "[0.99999834 0.99505475 0.9993293  0.9999092  0.76159416]\n"
     ]
    }
   ],
   "source": [
    "#power function\n",
    "import numpy as np\n",
    "a = np.array([7,3,4,5,1])\n",
    "b = np.array([3,4,5,6,7])\n",
    "c=np.power(a,b)\n",
    "print(c)\n",
    "#square root function\n",
    "d=np.sqrt(a)\n",
    "print(d)\n",
    "#exponential function\n",
    "e=np.exp(a)\n",
    "print(e)\n",
    "#log function\n",
    "f=np.log(a)\n",
    "print(f)\n",
    "#log10 function\n",
    "g=np.log10(a)\n",
    "print(g)\n",
    "#log2 function\n",
    "h=np.log2(a)\n",
    "print(h)\n",
    "#sin function\n",
    "i=np.sin(a)\n",
    "print(i)\n",
    "#cos function\n",
    "j=np.cos(a)\n",
    "print(j)\n",
    "#tan function\n",
    "k=np.tan(a)\n",
    "print(k)\n",
    "#sinh function\n",
    "l=np.sinh(a)\n",
    "print(l)\n",
    "#cosh function\n",
    "m=np.cosh(a)\n",
    "print(m)\n",
    "#tanh function\n",
    "n=np.tanh(a)\n",
    "print(n)\n"
   ]
  }
 ],
 "metadata": {
  "kernelspec": {
   "display_name": "Python 3",
   "language": "python",
   "name": "python3"
  },
  "language_info": {
   "codemirror_mode": {
    "name": "ipython",
    "version": 3
   },
   "file_extension": ".py",
   "mimetype": "text/x-python",
   "name": "python",
   "nbconvert_exporter": "python",
   "pygments_lexer": "ipython3",
   "version": "3.11.4"
  },
  "orig_nbformat": 4
 },
 "nbformat": 4,
 "nbformat_minor": 2
}
